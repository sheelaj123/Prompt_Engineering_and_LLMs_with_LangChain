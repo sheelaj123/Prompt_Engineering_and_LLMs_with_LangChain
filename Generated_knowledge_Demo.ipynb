{
  "nbformat": 4,
  "nbformat_minor": 0,
  "metadata": {
    "colab": {
      "provenance": [],
      "authorship_tag": "ABX9TyPhCAeosoPwy9St6DuHdqv7",
      "include_colab_link": true
    },
    "kernelspec": {
      "name": "python3",
      "display_name": "Python 3"
    },
    "language_info": {
      "name": "python"
    }
  },
  "cells": [
    {
      "cell_type": "markdown",
      "metadata": {
        "id": "view-in-github",
        "colab_type": "text"
      },
      "source": [
        "<a href=\"https://colab.research.google.com/github/sheelaj123/Prompt_Engineering_and_LLMs_with_LangChain/blob/main/Generated_knowledge_Demo.ipynb\" target=\"_parent\"><img src=\"https://colab.research.google.com/assets/colab-badge.svg\" alt=\"Open In Colab\"/></a>"
      ]
    },
    {
      "cell_type": "markdown",
      "source": [
        "#<font color ='red'>Generated knowledge understand--step by step :\n",
        "\n",
        "\n",
        "<>Brief overview()\n",
        "\n",
        "<>Brief + Detailed overview()\n",
        "\n",
        "---\n",
        "\n",
        " By USING THE GENERATED KNOWLEDGE: --\n",
        "\n",
        "  --LLMs continue to be improved.\n",
        "\n",
        "  --one popular technique includes the ability to incorporate knowledge or information to help the model make more accurate predictions.\n",
        "\n",
        "\n",
        "  QUESTION --> GENERATED KNOWLEDGE -->KNOWLEDGE1, 2...ETC  -->KNOWLEDGE INTEGRATION -->RESPONSE\n",
        "\n",
        "\n",
        "  #<font color=red>Generated knowledge concept can be implemented in LangChain using SimpleSequentialChain\n",
        "\n",
        "---\n",
        "  #Now let's understands with demo to how to pass the response of one prompt as input to next prompt using sequential prompting.\n"
      ],
      "metadata": {
        "id": "H_XMGbPLmY-d"
      }
    },
    {
      "cell_type": "code",
      "execution_count": 1,
      "metadata": {
        "colab": {
          "base_uri": "https://localhost:8080/"
        },
        "id": "HreTstckmRjv",
        "outputId": "ad3c3077-fec9-411c-eae0-c6c23a1ef2ea"
      },
      "outputs": [
        {
          "output_type": "stream",
          "name": "stdout",
          "text": [
            "Collecting langchain\n",
            "  Downloading langchain-0.1.5-py3-none-any.whl (806 kB)\n",
            "\u001b[?25l     \u001b[90m━━━━━━━━━━━━━━━━━━━━━━━━━━━━━━━━━━━━━━━━\u001b[0m \u001b[32m0.0/806.7 kB\u001b[0m \u001b[31m?\u001b[0m eta \u001b[36m-:--:--\u001b[0m\r\u001b[2K     \u001b[91m━━━━━━━━━━━━\u001b[0m\u001b[90m╺\u001b[0m\u001b[90m━━━━━━━━━━━━━━━━━━━━━━━━━━━\u001b[0m \u001b[32m245.8/806.7 kB\u001b[0m \u001b[31m7.4 MB/s\u001b[0m eta \u001b[36m0:00:01\u001b[0m\r\u001b[2K     \u001b[91m━━━━━━━━━━━━━━━━━━━━━━━━━━━━━━━━━━━━━━━\u001b[0m\u001b[91m╸\u001b[0m \u001b[32m798.7/806.7 kB\u001b[0m \u001b[31m11.6 MB/s\u001b[0m eta \u001b[36m0:00:01\u001b[0m\r\u001b[2K     \u001b[90m━━━━━━━━━━━━━━━━━━━━━━━━━━━━━━━━━━━━━━━━\u001b[0m \u001b[32m806.7/806.7 kB\u001b[0m \u001b[31m9.7 MB/s\u001b[0m eta \u001b[36m0:00:00\u001b[0m\n",
            "\u001b[?25hRequirement already satisfied: PyYAML>=5.3 in /usr/local/lib/python3.10/dist-packages (from langchain) (6.0.1)\n",
            "Requirement already satisfied: SQLAlchemy<3,>=1.4 in /usr/local/lib/python3.10/dist-packages (from langchain) (2.0.25)\n",
            "Requirement already satisfied: aiohttp<4.0.0,>=3.8.3 in /usr/local/lib/python3.10/dist-packages (from langchain) (3.9.3)\n",
            "Requirement already satisfied: async-timeout<5.0.0,>=4.0.0 in /usr/local/lib/python3.10/dist-packages (from langchain) (4.0.3)\n",
            "Collecting dataclasses-json<0.7,>=0.5.7 (from langchain)\n",
            "  Downloading dataclasses_json-0.6.4-py3-none-any.whl (28 kB)\n",
            "Collecting jsonpatch<2.0,>=1.33 (from langchain)\n",
            "  Downloading jsonpatch-1.33-py2.py3-none-any.whl (12 kB)\n",
            "Collecting langchain-community<0.1,>=0.0.17 (from langchain)\n",
            "  Downloading langchain_community-0.0.18-py3-none-any.whl (1.6 MB)\n",
            "\u001b[2K     \u001b[90m━━━━━━━━━━━━━━━━━━━━━━━━━━━━━━━━━━━━━━━━\u001b[0m \u001b[32m1.6/1.6 MB\u001b[0m \u001b[31m22.4 MB/s\u001b[0m eta \u001b[36m0:00:00\u001b[0m\n",
            "\u001b[?25hCollecting langchain-core<0.2,>=0.1.16 (from langchain)\n",
            "  Downloading langchain_core-0.1.19-py3-none-any.whl (238 kB)\n",
            "\u001b[2K     \u001b[90m━━━━━━━━━━━━━━━━━━━━━━━━━━━━━━━━━━━━━━━━\u001b[0m \u001b[32m238.5/238.5 kB\u001b[0m \u001b[31m17.9 MB/s\u001b[0m eta \u001b[36m0:00:00\u001b[0m\n",
            "\u001b[?25hCollecting langsmith<0.1,>=0.0.83 (from langchain)\n",
            "  Downloading langsmith-0.0.86-py3-none-any.whl (54 kB)\n",
            "\u001b[2K     \u001b[90m━━━━━━━━━━━━━━━━━━━━━━━━━━━━━━━━━━━━━━━━\u001b[0m \u001b[32m54.4/54.4 kB\u001b[0m \u001b[31m6.5 MB/s\u001b[0m eta \u001b[36m0:00:00\u001b[0m\n",
            "\u001b[?25hRequirement already satisfied: numpy<2,>=1 in /usr/local/lib/python3.10/dist-packages (from langchain) (1.23.5)\n",
            "Requirement already satisfied: pydantic<3,>=1 in /usr/local/lib/python3.10/dist-packages (from langchain) (2.6.0)\n",
            "Requirement already satisfied: requests<3,>=2 in /usr/local/lib/python3.10/dist-packages (from langchain) (2.31.0)\n",
            "Requirement already satisfied: tenacity<9.0.0,>=8.1.0 in /usr/local/lib/python3.10/dist-packages (from langchain) (8.2.3)\n",
            "Requirement already satisfied: aiosignal>=1.1.2 in /usr/local/lib/python3.10/dist-packages (from aiohttp<4.0.0,>=3.8.3->langchain) (1.3.1)\n",
            "Requirement already satisfied: attrs>=17.3.0 in /usr/local/lib/python3.10/dist-packages (from aiohttp<4.0.0,>=3.8.3->langchain) (23.2.0)\n",
            "Requirement already satisfied: frozenlist>=1.1.1 in /usr/local/lib/python3.10/dist-packages (from aiohttp<4.0.0,>=3.8.3->langchain) (1.4.1)\n",
            "Requirement already satisfied: multidict<7.0,>=4.5 in /usr/local/lib/python3.10/dist-packages (from aiohttp<4.0.0,>=3.8.3->langchain) (6.0.5)\n",
            "Requirement already satisfied: yarl<2.0,>=1.0 in /usr/local/lib/python3.10/dist-packages (from aiohttp<4.0.0,>=3.8.3->langchain) (1.9.4)\n",
            "Collecting marshmallow<4.0.0,>=3.18.0 (from dataclasses-json<0.7,>=0.5.7->langchain)\n",
            "  Downloading marshmallow-3.20.2-py3-none-any.whl (49 kB)\n",
            "\u001b[2K     \u001b[90m━━━━━━━━━━━━━━━━━━━━━━━━━━━━━━━━━━━━━━━━\u001b[0m \u001b[32m49.4/49.4 kB\u001b[0m \u001b[31m5.9 MB/s\u001b[0m eta \u001b[36m0:00:00\u001b[0m\n",
            "\u001b[?25hCollecting typing-inspect<1,>=0.4.0 (from dataclasses-json<0.7,>=0.5.7->langchain)\n",
            "  Downloading typing_inspect-0.9.0-py3-none-any.whl (8.8 kB)\n",
            "Collecting jsonpointer>=1.9 (from jsonpatch<2.0,>=1.33->langchain)\n",
            "  Downloading jsonpointer-2.4-py2.py3-none-any.whl (7.8 kB)\n",
            "Requirement already satisfied: anyio<5,>=3 in /usr/local/lib/python3.10/dist-packages (from langchain-core<0.2,>=0.1.16->langchain) (3.7.1)\n",
            "Requirement already satisfied: packaging<24.0,>=23.2 in /usr/local/lib/python3.10/dist-packages (from langchain-core<0.2,>=0.1.16->langchain) (23.2)\n",
            "Requirement already satisfied: annotated-types>=0.4.0 in /usr/local/lib/python3.10/dist-packages (from pydantic<3,>=1->langchain) (0.6.0)\n",
            "Requirement already satisfied: pydantic-core==2.16.1 in /usr/local/lib/python3.10/dist-packages (from pydantic<3,>=1->langchain) (2.16.1)\n",
            "Requirement already satisfied: typing-extensions>=4.6.1 in /usr/local/lib/python3.10/dist-packages (from pydantic<3,>=1->langchain) (4.9.0)\n",
            "Requirement already satisfied: charset-normalizer<4,>=2 in /usr/local/lib/python3.10/dist-packages (from requests<3,>=2->langchain) (3.3.2)\n",
            "Requirement already satisfied: idna<4,>=2.5 in /usr/local/lib/python3.10/dist-packages (from requests<3,>=2->langchain) (3.6)\n",
            "Requirement already satisfied: urllib3<3,>=1.21.1 in /usr/local/lib/python3.10/dist-packages (from requests<3,>=2->langchain) (2.0.7)\n",
            "Requirement already satisfied: certifi>=2017.4.17 in /usr/local/lib/python3.10/dist-packages (from requests<3,>=2->langchain) (2024.2.2)\n",
            "Requirement already satisfied: greenlet!=0.4.17 in /usr/local/lib/python3.10/dist-packages (from SQLAlchemy<3,>=1.4->langchain) (3.0.3)\n",
            "Requirement already satisfied: sniffio>=1.1 in /usr/local/lib/python3.10/dist-packages (from anyio<5,>=3->langchain-core<0.2,>=0.1.16->langchain) (1.3.0)\n",
            "Requirement already satisfied: exceptiongroup in /usr/local/lib/python3.10/dist-packages (from anyio<5,>=3->langchain-core<0.2,>=0.1.16->langchain) (1.2.0)\n",
            "Collecting mypy-extensions>=0.3.0 (from typing-inspect<1,>=0.4.0->dataclasses-json<0.7,>=0.5.7->langchain)\n",
            "  Downloading mypy_extensions-1.0.0-py3-none-any.whl (4.7 kB)\n",
            "Installing collected packages: mypy-extensions, marshmallow, jsonpointer, typing-inspect, jsonpatch, langsmith, dataclasses-json, langchain-core, langchain-community, langchain\n",
            "Successfully installed dataclasses-json-0.6.4 jsonpatch-1.33 jsonpointer-2.4 langchain-0.1.5 langchain-community-0.0.18 langchain-core-0.1.19 langsmith-0.0.86 marshmallow-3.20.2 mypy-extensions-1.0.0 typing-inspect-0.9.0\n"
          ]
        }
      ],
      "source": [
        "!pip install langchain"
      ]
    },
    {
      "cell_type": "code",
      "source": [
        "!pip install huggingface_hub"
      ],
      "metadata": {
        "colab": {
          "base_uri": "https://localhost:8080/"
        },
        "id": "srxyQ7dKoNLe",
        "outputId": "ce828943-3654-4510-8074-4f97d49597f4"
      },
      "execution_count": 2,
      "outputs": [
        {
          "output_type": "stream",
          "name": "stdout",
          "text": [
            "Requirement already satisfied: huggingface_hub in /usr/local/lib/python3.10/dist-packages (0.20.3)\n",
            "Requirement already satisfied: filelock in /usr/local/lib/python3.10/dist-packages (from huggingface_hub) (3.13.1)\n",
            "Requirement already satisfied: fsspec>=2023.5.0 in /usr/local/lib/python3.10/dist-packages (from huggingface_hub) (2023.6.0)\n",
            "Requirement already satisfied: requests in /usr/local/lib/python3.10/dist-packages (from huggingface_hub) (2.31.0)\n",
            "Requirement already satisfied: tqdm>=4.42.1 in /usr/local/lib/python3.10/dist-packages (from huggingface_hub) (4.66.1)\n",
            "Requirement already satisfied: pyyaml>=5.1 in /usr/local/lib/python3.10/dist-packages (from huggingface_hub) (6.0.1)\n",
            "Requirement already satisfied: typing-extensions>=3.7.4.3 in /usr/local/lib/python3.10/dist-packages (from huggingface_hub) (4.9.0)\n",
            "Requirement already satisfied: packaging>=20.9 in /usr/local/lib/python3.10/dist-packages (from huggingface_hub) (23.2)\n",
            "Requirement already satisfied: charset-normalizer<4,>=2 in /usr/local/lib/python3.10/dist-packages (from requests->huggingface_hub) (3.3.2)\n",
            "Requirement already satisfied: idna<4,>=2.5 in /usr/local/lib/python3.10/dist-packages (from requests->huggingface_hub) (3.6)\n",
            "Requirement already satisfied: urllib3<3,>=1.21.1 in /usr/local/lib/python3.10/dist-packages (from requests->huggingface_hub) (2.0.7)\n",
            "Requirement already satisfied: certifi>=2017.4.17 in /usr/local/lib/python3.10/dist-packages (from requests->huggingface_hub) (2024.2.2)\n"
          ]
        }
      ]
    },
    {
      "cell_type": "code",
      "source": [
        "from langchain import LLMChain, OpenAI, Cohere, HuggingFaceHub, PromptTemplate\n",
        "from getpass import getpass\n",
        "from langchain import HuggingFaceHub\n",
        "from langchain import PromptTemplate, LLMChain\n",
        "from langchain.chains import SimpleSequentialChain\n",
        "from langchain.prompts.few_shot import FewShotPromptTemplate\n",
        "#from langchain.prompts.prompt import PromptTemplate\n",
        "from langchain.embeddings import HuggingFaceEmbeddings, HuggingFaceHubEmbeddings\n"
      ],
      "metadata": {
        "id": "2qk_H0jvoWXM"
      },
      "execution_count": 3,
      "outputs": []
    },
    {
      "cell_type": "code",
      "source": [
        "import os\n",
        "COHERE_API_KEY=getpass()\n",
        "os.environ[\"Cohere_API_TOKEN\"] = COHERE_API_KEY\n",
        "#place your Cohere API key after running this cell\n"
      ],
      "metadata": {
        "colab": {
          "base_uri": "https://localhost:8080/"
        },
        "id": "HXH3l_YwoYQj",
        "outputId": "374ef24d-db0e-4eb0-c770-b25a146758ee"
      },
      "execution_count": 4,
      "outputs": [
        {
          "name": "stdout",
          "output_type": "stream",
          "text": [
            "··········\n"
          ]
        }
      ]
    },
    {
      "cell_type": "code",
      "source": [
        "template = \"\"\"Question: {question} Answer: Let's think step by step.\"\"\"\n",
        "prompt = PromptTemplate(template=template, input_variables=[\"question\"])\n"
      ],
      "metadata": {
        "id": "OprO7TsuosSg"
      },
      "execution_count": 5,
      "outputs": []
    },
    {
      "cell_type": "markdown",
      "source": [
        "#<font color = red>Chain1 : An LLM which generate a brief note about a Bird"
      ],
      "metadata": {
        "id": "sg05kMD2pA7D"
      }
    },
    {
      "cell_type": "code",
      "source": [
        "import os\n",
        "HUGGINGFACEHUB_API_TOKEN=getpass()\n",
        "os.environ[\"HUGGINGFACEHUB_API_TOKEN\"] = HUGGINGFACEHUB_API_TOKEN\n",
        "#place your Cohere API key after running this cell"
      ],
      "metadata": {
        "colab": {
          "base_uri": "https://localhost:8080/"
        },
        "id": "2rrleJ6KstWV",
        "outputId": "367e2327-257c-4179-abfa-bc8f225c3dea"
      },
      "execution_count": 6,
      "outputs": [
        {
          "name": "stdout",
          "output_type": "stream",
          "text": [
            "··········\n"
          ]
        }
      ]
    },
    {
      "cell_type": "code",
      "source": [
        "# Define the repository ID for the Hugging Face model\n",
        "repo_id1 = \"codellama/CodeLlama-70b-hf\""
      ],
      "metadata": {
        "id": "QOIUSjvgrGx6"
      },
      "execution_count": 7,
      "outputs": []
    },
    {
      "cell_type": "code",
      "source": [
        "!pip install cohere"
      ],
      "metadata": {
        "colab": {
          "base_uri": "https://localhost:8080/"
        },
        "id": "dEie63NotN_R",
        "outputId": "2d6bb98c-b7f7-48fd-dfc8-697906187900"
      },
      "execution_count": 8,
      "outputs": [
        {
          "output_type": "stream",
          "name": "stdout",
          "text": [
            "Collecting cohere\n",
            "  Downloading cohere-4.45-py3-none-any.whl (52 kB)\n",
            "\u001b[?25l     \u001b[90m━━━━━━━━━━━━━━━━━━━━━━━━━━━━━━━━━━━━━━━━\u001b[0m \u001b[32m0.0/52.1 kB\u001b[0m \u001b[31m?\u001b[0m eta \u001b[36m-:--:--\u001b[0m\r\u001b[2K     \u001b[90m━━━━━━━━━━━━━━━━━━━━━━━━━━━━━━━━━━━━━━━━\u001b[0m \u001b[32m52.1/52.1 kB\u001b[0m \u001b[31m2.0 MB/s\u001b[0m eta \u001b[36m0:00:00\u001b[0m\n",
            "\u001b[?25hRequirement already satisfied: aiohttp<4.0,>=3.0 in /usr/local/lib/python3.10/dist-packages (from cohere) (3.9.3)\n",
            "Collecting backoff<3.0,>=2.0 (from cohere)\n",
            "  Downloading backoff-2.2.1-py3-none-any.whl (15 kB)\n",
            "Collecting fastavro<2.0,>=1.8 (from cohere)\n",
            "  Downloading fastavro-1.9.3-cp310-cp310-manylinux_2_17_x86_64.manylinux2014_x86_64.whl (3.1 MB)\n",
            "\u001b[2K     \u001b[90m━━━━━━━━━━━━━━━━━━━━━━━━━━━━━━━━━━━━━━━━\u001b[0m \u001b[32m3.1/3.1 MB\u001b[0m \u001b[31m18.0 MB/s\u001b[0m eta \u001b[36m0:00:00\u001b[0m\n",
            "\u001b[?25hCollecting importlib_metadata<7.0,>=6.0 (from cohere)\n",
            "  Downloading importlib_metadata-6.11.0-py3-none-any.whl (23 kB)\n",
            "Requirement already satisfied: requests<3.0.0,>=2.25.0 in /usr/local/lib/python3.10/dist-packages (from cohere) (2.31.0)\n",
            "Requirement already satisfied: urllib3<3,>=1.26 in /usr/local/lib/python3.10/dist-packages (from cohere) (2.0.7)\n",
            "Requirement already satisfied: aiosignal>=1.1.2 in /usr/local/lib/python3.10/dist-packages (from aiohttp<4.0,>=3.0->cohere) (1.3.1)\n",
            "Requirement already satisfied: attrs>=17.3.0 in /usr/local/lib/python3.10/dist-packages (from aiohttp<4.0,>=3.0->cohere) (23.2.0)\n",
            "Requirement already satisfied: frozenlist>=1.1.1 in /usr/local/lib/python3.10/dist-packages (from aiohttp<4.0,>=3.0->cohere) (1.4.1)\n",
            "Requirement already satisfied: multidict<7.0,>=4.5 in /usr/local/lib/python3.10/dist-packages (from aiohttp<4.0,>=3.0->cohere) (6.0.5)\n",
            "Requirement already satisfied: yarl<2.0,>=1.0 in /usr/local/lib/python3.10/dist-packages (from aiohttp<4.0,>=3.0->cohere) (1.9.4)\n",
            "Requirement already satisfied: async-timeout<5.0,>=4.0 in /usr/local/lib/python3.10/dist-packages (from aiohttp<4.0,>=3.0->cohere) (4.0.3)\n",
            "Requirement already satisfied: zipp>=0.5 in /usr/local/lib/python3.10/dist-packages (from importlib_metadata<7.0,>=6.0->cohere) (3.17.0)\n",
            "Requirement already satisfied: charset-normalizer<4,>=2 in /usr/local/lib/python3.10/dist-packages (from requests<3.0.0,>=2.25.0->cohere) (3.3.2)\n",
            "Requirement already satisfied: idna<4,>=2.5 in /usr/local/lib/python3.10/dist-packages (from requests<3.0.0,>=2.25.0->cohere) (3.6)\n",
            "Requirement already satisfied: certifi>=2017.4.17 in /usr/local/lib/python3.10/dist-packages (from requests<3.0.0,>=2.25.0->cohere) (2024.2.2)\n",
            "Installing collected packages: importlib_metadata, fastavro, backoff, cohere\n",
            "  Attempting uninstall: importlib_metadata\n",
            "    Found existing installation: importlib-metadata 7.0.1\n",
            "    Uninstalling importlib-metadata-7.0.1:\n",
            "      Successfully uninstalled importlib-metadata-7.0.1\n",
            "\u001b[31mERROR: pip's dependency resolver does not currently take into account all the packages that are installed. This behaviour is the source of the following dependency conflicts.\n",
            "llmx 0.0.15a0 requires openai, which is not installed.\n",
            "llmx 0.0.15a0 requires tiktoken, which is not installed.\u001b[0m\u001b[31m\n",
            "\u001b[0mSuccessfully installed backoff-2.2.1 cohere-4.45 fastavro-1.9.3 importlib_metadata-6.11.0\n"
          ]
        }
      ]
    },
    {
      "cell_type": "code",
      "source": [
        "llm1 = HuggingFaceHub(repo_id=repo_id1, model_kwargs={\"temperature\":0.3, \"max_length\":100})\n",
        "llm1=Cohere(cohere_api_key=COHERE_API_KEY)\n",
        "template1 = \"You are a writer. You are Given with the name of a Bird, it is your job to write a brief note for that Name.\\\n",
        "             Name: {name}   BriefNote: This is a briefnote for the above bird:\"\n",
        "prompt = PromptTemplate(template=template1, input_variables=[\"name\"])\n",
        "Chain_one = LLMChain(prompt=prompt, llm=llm1)\n"
      ],
      "metadata": {
        "id": "2U-fdkczo84Q"
      },
      "execution_count": 9,
      "outputs": []
    },
    {
      "cell_type": "markdown",
      "source": [
        "#<font color = red>Chain2 :An LLM which review the brief note generated by considering previous prompt"
      ],
      "metadata": {
        "id": "FgVADS-euD7n"
      }
    },
    {
      "cell_type": "code",
      "source": [
        "#llm2 = HuggingFaceHub(repo_id=repo_id1, model_kwargs={\"temperature\":0.3, \"max_length\":100})\n",
        "llm2=Cohere(cohere_api_key=COHERE_API_KEY)\n",
        "template2 = \"You are an expert in zoology. Given a brief note about a bird, it is your job to write a review comments for that Bird.\\\n",
        "             briefNote: {note}   BriefNote: Review for a briefnote for  bird:\"\n",
        "prompt2 = PromptTemplate(template=template2, input_variables=[\"note\"])\n",
        "Chain_two = LLMChain(prompt=prompt2, llm=llm2)\n"
      ],
      "metadata": {
        "id": "uNDqPgwutTu3"
      },
      "execution_count": 10,
      "outputs": []
    },
    {
      "cell_type": "markdown",
      "source": [
        "#Brief details --"
      ],
      "metadata": {
        "id": "IDPrwlhivPPZ"
      }
    },
    {
      "cell_type": "code",
      "source": [
        "print(Chain_one.run(\"Parrot\"))"
      ],
      "metadata": {
        "colab": {
          "base_uri": "https://localhost:8080/"
        },
        "id": "qxC9fGOatg0J",
        "outputId": "f92718bf-90b1-434a-897a-7ae8ed9ae232"
      },
      "execution_count": 11,
      "outputs": [
        {
          "output_type": "stream",
          "name": "stderr",
          "text": [
            "/usr/local/lib/python3.10/dist-packages/langchain_core/_api/deprecation.py:117: LangChainDeprecationWarning: The function `run` was deprecated in LangChain 0.1.0 and will be removed in 0.2.0. Use invoke instead.\n",
            "  warn_deprecated(\n"
          ]
        },
        {
          "output_type": "stream",
          "name": "stdout",
          "text": [
            " The parrot is a colorful bird that has a notable ability to mimic human speech and other sounds. It is among the most charismatic bird species, renowned for its extraordinary vocalizations and vivid appearances. Parrots boast a remarkable intelligence and exhibit complex behaviors, making them captivating companions and popular avian pets. These birds have an extensive habitat range, spanning across tropical and subtropical regions, allowing them to adapt to various environments. \n",
            "\n",
            "They possess strong beaks that can provide ample assistance in feeding themselves, be it fruits, seeds, or even nuts if available. The appeal of parrots lies not only in their vocal talents but also in their visual beauty. The diversity in their coloration is a standout feature, showcasing an array of vibrant shades that enhance their appeal. When encountering a parrot in the wild, one can be captivated by its graceful flight, characterized by swift yet graceful movements. \n",
            "\n",
            "However, it is important to maintain an appropriate distance from these birds in the wilderness, as they are wild animals and require their space. Captive parrots, if properly cared for, can prove to be delightful companions. They can seamlessly thrive in a domestic environment, where they can forge strong bonds with their owners. These bonds are instrumental in nurturing a lively, responsive behavior from the parrots, as\n"
          ]
        }
      ]
    },
    {
      "cell_type": "markdown",
      "source": [
        "#Brief+Detailed  with Sequential Chain"
      ],
      "metadata": {
        "id": "XL7pgPfdvTav"
      }
    },
    {
      "cell_type": "code",
      "source": [
        "Chain = SimpleSequentialChain(chains= [Chain_one, Chain_two])\n",
        "print(Chain.run(\"parrot\"))"
      ],
      "metadata": {
        "colab": {
          "base_uri": "https://localhost:8080/"
        },
        "id": "OHoalqpptln8",
        "outputId": "67961683-2e36-45bb-c3ee-a32e765c33e6"
      },
      "execution_count": 12,
      "outputs": [
        {
          "output_type": "stream",
          "name": "stdout",
          "text": [
            " This is an insightful and informative brief note about parrots. You've done a great job of highlighting the key characteristics and traits of these remarkable birds. \n",
            "\n",
            "Here's a revised version of your brief note with some added review comments:\n",
            "\n",
            "The vibrant and colorful parrot is a true spectacle, with its distinctive curved beak and articulate voice, making it stand out in the bird kingdom. Native to tropical and subtropical regions, parrots are cherished for their strong bonding behaviors and social nature, often forming close knit pairs or small groups. These intelligent birds are highly adaptable to various habitats, whether it be forests, deserts, or even urban areas, showcasing their versatility depending on the species. It is worth noting that parrots have been extensively domesticated and selectively bred for their diverse colors and skills, making them beloved pets. These lively creatures are set apart with their cheerful demeanors, playful nature, and remarkable linguistic abilities. \n",
            "\n",
            "Their beauty, sociability, and adaptability make parrots integral to tropical ecosystems and a source of joy and companionship in our homes. \n",
            "I hope this helps! Let me know if you would like me to transform any other written pieces or answers into more refined and descriptive content. \n"
          ]
        }
      ]
    },
    {
      "cell_type": "code",
      "source": [],
      "metadata": {
        "id": "TDyh4nRkdO5p"
      },
      "execution_count": null,
      "outputs": []
    },
    {
      "cell_type": "markdown",
      "source": [
        "#<font color =red>Let's take another examples --\n"
      ],
      "metadata": {
        "id": "dk-HZT5qd0PQ"
      }
    },
    {
      "cell_type": "markdown",
      "source": [],
      "metadata": {
        "id": "29GQYdDbeIPb"
      }
    },
    {
      "cell_type": "code",
      "source": [
        "# Define the repository ID for the Hugging Face model\n",
        "repo_id3 = \"liuhaotian/llava-v1.6-mistral-7b\""
      ],
      "metadata": {
        "id": "Ph_pTvB1d-d2"
      },
      "execution_count": 18,
      "outputs": []
    },
    {
      "cell_type": "markdown",
      "source": [
        "###Creating Chain 3 :--\n",
        "\n",
        "I'm generating some details about any role {} with brief & detailed of that role we are using length of 150 words."
      ],
      "metadata": {
        "id": "EP4kxxeReZQs"
      }
    },
    {
      "cell_type": "code",
      "source": [
        "llm3 = HuggingFaceHub(repo_id=repo_id1, model_kwargs={\"temperature\":0.3, \"max_length\":150})\n",
        "llm3=Cohere(cohere_api_key=COHERE_API_KEY)\n",
        "Template3 = \"you are a content generator. your work to generate text for this Role:{role}, how it can be able to work on diffrent works, with brief and details overview of this role. \\n Role: {role} BriefNote: this is brief note about his role \"\n",
        "prompt3 = PromptTemplate(template=Template3, input_variables=[\"name\"])\n",
        "Chain_three = LLMChain(prompt=prompt3, llm=llm3)\n",
        "\n"
      ],
      "metadata": {
        "id": "uY0FEnbAeXYl"
      },
      "execution_count": 43,
      "outputs": []
    },
    {
      "cell_type": "code",
      "source": [
        "print(Chain_three.run(\"Data Scientist\"))"
      ],
      "metadata": {
        "colab": {
          "base_uri": "https://localhost:8080/"
        },
        "id": "zldMSEZzi2Zm",
        "outputId": "b61a345a-e3c2-4f0e-f38d-f956e2776c29"
      },
      "execution_count": 44,
      "outputs": [
        {
          "output_type": "stream",
          "name": "stderr",
          "text": [
            "Your text contains a trailing whitespace, which has been trimmed to ensure high quality generations.\n"
          ]
        },
        {
          "output_type": "stream",
          "name": "stdout",
          "text": [
            "Role: Data Scientist \n",
            "A data scientist is a multifaceted role that leverages both business and technical skills to solve complex problems. This role is responsible for collecting, analyzing, and interpreting data to help businesses make informed decisions and drive innovation. From data collection and analysis to recommendation and implementation, data scientists provide companies with valuable insights to improve their operations, product offerings, and overall success. \n",
            "\n",
            "Role: Data Scientist Details \n",
            "The data scientist role comprises three key components: data architecture, data modeling, and data analytics. Having a clear understanding of these components and their interplay is fundamental to making informed decisions and driving business success. \n",
            "\n",
            "Data architecture refers to the design and development of data management systems, which can vary across organizations. It involves selecting the appropriate tools and technologies to efficiently store, retrieve, and update data. The goal is to create a robust infrastructure that seamlessly integrates various data sources and enables seamless data flow for efficient analysis and utilization. \n",
            "\n",
            "Data modeling involves designing and managing data to support specific organizational needs and align with business goals. It requires an understanding of the organization's goals and objectives to define the data structures and models best suited for capturing, storing, and providing meaningful insights. Data modeling should be scalable and adaptable to change with evolving business needs. This phase of\n"
          ]
        }
      ]
    },
    {
      "cell_type": "markdown",
      "source": [
        "#Creating Chain -4\n",
        "\n",
        "this chain will review the brief note about any { role } by considering previous prompt.\n",
        "\n",
        "let's see how we can generate: --"
      ],
      "metadata": {
        "id": "1TYNbj6yj-0J"
      }
    },
    {
      "cell_type": "code",
      "source": [
        "llm4=Cohere(cohere_api_key=COHERE_API_KEY)\n",
        "Template4 = \"you are a content generator. your work to generate text for this Role, how it can be able to work on diffrent works, with brief and details overview of this role, BriefNote: this is brief note about this {note}, review of this brief note \"\n",
        "prompt4 = PromptTemplate(template=Template4, input_variables=[\"note\"])\n",
        "Chain_four = LLMChain(prompt=prompt4, llm=llm4)"
      ],
      "metadata": {
        "id": "73quumz3jhoL"
      },
      "execution_count": 52,
      "outputs": []
    },
    {
      "cell_type": "markdown",
      "source": [
        "##Combine -chain 3, 4 ==>"
      ],
      "metadata": {
        "id": "Vko4D7TilgQW"
      }
    },
    {
      "cell_type": "code",
      "source": [
        "Chain = SimpleSequentialChain(chains=[Chain_three,Chain_four])\n",
        "print(Chain.run(\"Data  Scientist\"))"
      ],
      "metadata": {
        "colab": {
          "base_uri": "https://localhost:8080/"
        },
        "id": "_-L-MgGSk-cP",
        "outputId": "ae4bc9aa-495b-4149-8d22-6ec67a022e95"
      },
      "execution_count": 53,
      "outputs": [
        {
          "output_type": "stream",
          "name": "stderr",
          "text": [
            "Your text contains a trailing whitespace, which has been trimmed to ensure high quality generations.\n",
            "Your text contains a trailing whitespace, which has been trimmed to ensure high quality generations.\n"
          ]
        },
        {
          "output_type": "stream",
          "name": "stdout",
          "text": [
            "I am a talented and versatile Content Generator with expertise in producing creative and engaging content for various industries and formats. From writing thought-provoking articles to developing compelling marketing copies and crafting interesting social media posts, I have experience in diverse writing genres. My background in research allows me to provide comprehensive information and insights on various topics, making my content reliable and valuable. I am committed to delivering high-quality results that capture audiences' attention and achieve business goals.\n",
            "\n",
            "As a Data Scientist, I understand the importance of collecting, analyzing, and interpreting data to inform business decisions and develop data-driven strategies. By identifying trends and patterns through statistical analysis, I can forecast upcoming trends and make predictions that will help shape the company's future. My expertise in data analysis and interpretation allows me to explore data and uncover valuable insights that can optimize performance, productivity, and business operations.\n",
            "\n",
            "In my role as a Content Generator, I can assist with creating brief and detailed overviews of the Data Scientist role. I can highlight the skills and responsibilities involved in the position, explaining the importance of data analysis and interpretation for decision-making and strategy development. By generating engaging and concise content, I can attract potential candidates interested in pursuing a career in data science, helping the company attract the best talent.\n"
          ]
        }
      ]
    },
    {
      "cell_type": "markdown",
      "source": [
        "#<font color =red>||Topic over now <> Thanks for visiting||"
      ],
      "metadata": {
        "id": "xBLVl9yHvzy7"
      }
    }
  ]
}